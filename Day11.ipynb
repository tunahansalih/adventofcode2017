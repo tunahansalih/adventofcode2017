{
 "cells": [
  {
   "cell_type": "raw",
   "metadata": {},
   "source": [
    "--- Day 11: Hex Ed ---\n",
    "Crossing the bridge, you've barely reached the other side of the stream when a program comes up to you, clearly in distress. \"It's my child process,\" she says, \"he's gotten lost in an infinite grid!\"\n",
    "\n",
    "Fortunately for her, you have plenty of experience with infinite grids.\n",
    "\n",
    "Unfortunately for you, it's a hex grid.\n",
    "\n",
    "The hexagons (\"hexes\") in this grid are aligned such that adjacent hexes can be found to the north, northeast, southeast, south, southwest, and northwest:\n",
    "\n",
    "  \\ n  /\n",
    "nw +--+ ne\n",
    "  /    \\\n",
    "-+      +-\n",
    "  \\    /\n",
    "sw +--+ se\n",
    "  / s  \\\n",
    "You have the path the child process took. Starting where he started, you need to determine the fewest number of steps required to reach him. (A \"step\" means to move from the hex you are in to any adjacent hex.)\n",
    "\n",
    "For example:\n",
    "\n",
    "ne,ne,ne is 3 steps away.\n",
    "ne,ne,sw,sw is 0 steps away (back where you started).\n",
    "ne,ne,s,s is 2 steps away (se,se).\n",
    "se,sw,se,sw,sw is 3 steps away (s,s,sw)."
   ]
  },
  {
   "cell_type": "code",
   "execution_count": 2,
   "metadata": {},
   "outputs": [
    {
     "name": "stdout",
     "output_type": "stream",
     "text": [
      "[-1677  1674]\n"
     ]
    },
    {
     "data": {
      "text/plain": [
       "698.0"
      ]
     },
     "execution_count": 2,
     "metadata": {},
     "output_type": "execute_result"
    }
   ],
   "source": [
    "import numpy as np\n",
    "my_input = open('day11input.txt', 'r')\n",
    "my_directions = my_input.read().split(',')\n",
    "direction_dict = {'ne':(3, 2),\n",
    "                  'nw':(-3,2),\n",
    "                  'se':(3,-2),\n",
    "                  'sw':(-3,-2),\n",
    "                  's':(0,-4),\n",
    "                  'n':(0,4)}\n",
    "dist = np.zeros(2,dtype=np.int)\n",
    "for d in my_directions:\n",
    "    dist += direction_dict[d]\n",
    "    \n",
    "print(dist)\n",
    "ew = np.abs(dist[0]/3)\n",
    "ns = np.abs((dist[1]-ew*2)/4)\n",
    "ew+ns"
   ]
  },
  {
   "cell_type": "code",
   "execution_count": null,
   "metadata": {},
   "outputs": [],
   "source": []
  },
  {
   "cell_type": "code",
   "execution_count": null,
   "metadata": {},
   "outputs": [],
   "source": []
  }
 ],
 "metadata": {
  "kernelspec": {
   "display_name": "Python 3",
   "language": "python",
   "name": "python3"
  },
  "language_info": {
   "codemirror_mode": {
    "name": "ipython",
    "version": 3
   },
   "file_extension": ".py",
   "mimetype": "text/x-python",
   "name": "python",
   "nbconvert_exporter": "python",
   "pygments_lexer": "ipython3",
   "version": "3.7.0"
  }
 },
 "nbformat": 4,
 "nbformat_minor": 2
}
