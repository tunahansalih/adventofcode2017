{
 "cells": [
  {
   "cell_type": "raw",
   "metadata": {},
   "source": [
    "--- Day 8: I Heard You Like Registers ---\n",
    "You receive a signal directly from the CPU. Because of your recent assistance with jump instructions, it would like you to compute the result of a series of unusual register instructions.\n",
    "\n",
    "Each instruction consists of several parts: the register to modify, whether to increase or decrease that register's value, the amount by which to increase or decrease it, and a condition. If the condition fails, skip the instruction without modifying the register. The registers all start at 0. The instructions look like this:\n",
    "\n",
    "b inc 5 if a > 1\n",
    "a inc 1 if b < 5\n",
    "c dec -10 if a >= 1\n",
    "c inc -20 if c == 10\n",
    "These instructions would be processed as follows:\n",
    "\n",
    "Because a starts at 0, it is not greater than 1, and so b is not modified.\n",
    "a is increased by 1 (to 1) because b is less than 5 (it is 0).\n",
    "c is decreased by -10 (to 10) because a is now greater than or equal to 1 (it is 1).\n",
    "c is increased by -20 (to -10) because c is equal to 10.\n",
    "After this process, the largest value in any register is 1.\n",
    "\n",
    "You might also encounter <= (less than or equal to) or != (not equal to). However, the CPU doesn't have the bandwidth to tell you what all the registers are named, and leaves that to you to determine.\n",
    "\n",
    "What is the largest value in any register after completing the instructions in your puzzle input?"
   ]
  },
  {
   "cell_type": "code",
   "execution_count": 1,
   "metadata": {},
   "outputs": [],
   "source": [
    "my_input = open(\"day8input.txt\", \"r\")"
   ]
  },
  {
   "cell_type": "code",
   "execution_count": 2,
   "metadata": {},
   "outputs": [],
   "source": [
    "def cond(reg_dic, cond_list):\n",
    "    first_val = reg_dic.get(cond_list[0], 0)\n",
    "    second_val = int(cond_list[2])\n",
    "    operator_val = cond_list[1]\n",
    "    return eval('%d %s %d'% (first_val, operator_val, second_val))\n",
    "\n",
    "def inst(reg_dic, inst_list):\n",
    "    if inst_list[1] == 'dec':\n",
    "        reg_dic[inst_list[0]] = reg_dic.get(inst_list[0], 0) - int(inst_list[2])\n",
    "    elif inst_list[1] == 'inc':\n",
    "        reg_dic[inst_list[0]] = reg_dic.get(inst_list[0], 0) + int(inst_list[2])\n",
    "\n",
    "my_registers = {}\n",
    "for l in my_input.read().splitlines():\n",
    "    inst_list = l.split(\" \")\n",
    "    if cond(my_registers, inst_list[-3:]):\n",
    "        inst(my_registers, inst_list[:3])"
   ]
  },
  {
   "cell_type": "code",
   "execution_count": 3,
   "metadata": {},
   "outputs": [
    {
     "data": {
      "text/plain": [
       "6012"
      ]
     },
     "execution_count": 3,
     "metadata": {},
     "output_type": "execute_result"
    }
   ],
   "source": [
    "max(my_registers.values())"
   ]
  },
  {
   "cell_type": "code",
   "execution_count": null,
   "metadata": {},
   "outputs": [],
   "source": []
  }
 ],
 "metadata": {
  "kernelspec": {
   "display_name": "Python 3",
   "language": "python",
   "name": "python3"
  },
  "language_info": {
   "codemirror_mode": {
    "name": "ipython",
    "version": 3
   },
   "file_extension": ".py",
   "mimetype": "text/x-python",
   "name": "python",
   "nbconvert_exporter": "python",
   "pygments_lexer": "ipython3",
   "version": "3.7.0"
  }
 },
 "nbformat": 4,
 "nbformat_minor": 2
}
