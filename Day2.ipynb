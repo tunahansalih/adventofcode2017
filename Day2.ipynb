{
 "cells": [
  {
   "cell_type": "markdown",
   "metadata": {},
   "source": [
    "--- Day 2: Corruption Checksum ---\n",
    "As you walk through the door, a glowing humanoid shape yells in your direction. \"You there! Your state appears to be idle. Come help us repair the corruption in this spreadsheet - if we take another millisecond, we'll have to display an hourglass cursor!\"\n",
    "\n",
    "The spreadsheet consists of rows of apparently-random numbers. To make sure the recovery process is on the right track, they need you to calculate the spreadsheet's checksum. For each row, determine the difference between the largest value and the smallest value; the checksum is the sum of all of these differences.\n",
    "\n",
    "For example, given the following spreadsheet:\n",
    "\n",
    "5 1 9 5\n",
    "7 5 3\n",
    "2 4 6 8\n",
    "The first row's largest and smallest values are 9 and 1, and their difference is 8.\n",
    "The second row's largest and smallest values are 7 and 3, and their difference is 4.\n",
    "The third row's difference is 6.\n",
    "In this example, the spreadsheet's checksum would be 8 + 4 + 6 = 18.\n",
    "\n",
    "What is the checksum for the spreadsheet in your puzzle input?"
   ]
  },
  {
   "cell_type": "code",
   "execution_count": 8,
   "metadata": {},
   "outputs": [
    {
     "data": {
      "text/plain": [
       "54426"
      ]
     },
     "execution_count": 8,
     "metadata": {},
     "output_type": "execute_result"
    }
   ],
   "source": [
    "import numpy as np\n",
    "spreadsheet = open('day2input.txt','r')\n",
    "sum = 0\n",
    "for l in spreadsheet.readlines():\n",
    "    arr = np.fromstring(l, dtype=np.int, sep=\" \")\n",
    "    sum += (np.max(arr) - np.min(arr)) \n",
    "    \n",
    "sum"
   ]
  }
 ],
 "metadata": {
  "kernelspec": {
   "display_name": "Python 3",
   "language": "python",
   "name": "python3"
  },
  "language_info": {
   "codemirror_mode": {
    "name": "ipython",
    "version": 3
   },
   "file_extension": ".py",
   "mimetype": "text/x-python",
   "name": "python",
   "nbconvert_exporter": "python",
   "pygments_lexer": "ipython3",
   "version": "3.7.0"
  }
 },
 "nbformat": 4,
 "nbformat_minor": 2
}
